{
 "cells": [
  {
   "cell_type": "code",
   "execution_count": 279,
   "metadata": {},
   "outputs": [],
   "source": [
    "import pandas as pd\n",
    "import sklearn as skt\n",
    "import re\n",
    "from datetime import datetime, timezone\n",
    "import matplotlib.pyplot as plt"
   ]
  },
  {
   "cell_type": "code",
   "execution_count": 280,
   "metadata": {},
   "outputs": [],
   "source": [
    "# Criar arquivo CSV\n",
    "def baseArchive():\n",
    "    basePath = os.path.join(os.getcwd(), 'db', 'FakeReal.csv')\n",
    "    os.makedirs(os.path.dirname(basePath), exist_ok=True)\n",
    "    if not os.path.exists(basePath):\n",
    "        with open(basePath, 'w', encoding='utf-8') as baseArchive:\n",
    "            baseArchive.write('titulo,URL\\n')  # Cabeçalho compatível com os dados\n",
    "    print(f\"Arquivo base criado ou já existente em: {basePath}\")\n",
    "    return basePath"
   ]
  },
  {
   "cell_type": "code",
   "execution_count": 281,
   "metadata": {},
   "outputs": [],
   "source": [
    "def saveData(data, filename=None):\n",
    "    if filename is None:\n",
    "        filename = baseArchive()\n",
    "\n",
    "    df = pd.DataFrame(data)\n",
    "\n",
    "    try:\n",
    "        # Caso o arquivo já exista\n",
    "        if os.path.exists(filename):\n",
    "            existing_df = pd.read_csv(filename)\n",
    "            \n",
    "            # Combina os novos dados com os existentes, sem remover duplicatas\n",
    "            combined_df = pd.concat([existing_df, df], ignore_index=True)\n",
    "            combined_df.to_csv(filename, index=True, index_label='index')\n",
    "        else:\n",
    "            # Caso seja o primeiro salvamento\n",
    "            df.to_csv(filename, index=True, index_label='index')\n",
    "\n",
    "        print(f\"Dados salvos no arquivo '{filename}' com sucesso!\")\n",
    "\n",
    "    except Exception as e:\n",
    "        print(f\"Erro ao salvar dados: {e}\")"
   ]
  },
  {
   "cell_type": "code",
   "execution_count": null,
   "metadata": {},
   "outputs": [
    {
     "data": {
      "text/html": [
       "<div>\n",
       "<style scoped>\n",
       "    .dataframe tbody tr th:only-of-type {\n",
       "        vertical-align: middle;\n",
       "    }\n",
       "\n",
       "    .dataframe tbody tr th {\n",
       "        vertical-align: top;\n",
       "    }\n",
       "\n",
       "    .dataframe thead th {\n",
       "        text-align: right;\n",
       "    }\n",
       "</style>\n",
       "<table border=\"1\" class=\"dataframe\">\n",
       "  <thead>\n",
       "    <tr style=\"text-align: right;\">\n",
       "      <th></th>\n",
       "      <th>index</th>\n",
       "      <th>titulo</th>\n",
       "      <th>resumo</th>\n",
       "      <th>URL</th>\n",
       "    </tr>\n",
       "  </thead>\n",
       "  <tbody>\n",
       "    <tr>\n",
       "      <th>0</th>\n",
       "      <td>0</td>\n",
       "      <td>É #FAKE vídeo de Paolla Oliveira anunciando de...</td>\n",
       "      <td>é fake post que usa vídeo de paolla oliveira p...</td>\n",
       "      <td>https://g1.globo.com/fato-ou-fake/video/e-fake...</td>\n",
       "    </tr>\n",
       "    <tr>\n",
       "      <th>1</th>\n",
       "      <td>1</td>\n",
       "      <td>É #FAKE que vídeo mostre criminosos deixando d...</td>\n",
       "      <td>polícia civil da bahia onde foi feita a gravaç...</td>\n",
       "      <td>https://g1.globo.com/fato-ou-fake/noticia/2025...</td>\n",
       "    </tr>\n",
       "    <tr>\n",
       "      <th>2</th>\n",
       "      <td>2</td>\n",
       "      <td>É #FATO: vídeo viral mostra treinamento milita...</td>\n",
       "      <td>publicada em fevereiro de na conta oficial de ...</td>\n",
       "      <td>https://g1.globo.com/fato-ou-fake/noticia/2025...</td>\n",
       "    </tr>\n",
       "    <tr>\n",
       "      <th>3</th>\n",
       "      <td>3</td>\n",
       "      <td>É #FAKE que mamografia aumenta o risco de cânc...</td>\n",
       "      <td>integrante da sociedade brasileira de mastolog...</td>\n",
       "      <td>https://g1.globo.com/fato-ou-fake/noticia/2025...</td>\n",
       "    </tr>\n",
       "    <tr>\n",
       "      <th>4</th>\n",
       "      <td>4</td>\n",
       "      <td>É #FAKE vídeo em que famosos usam camiseta com...</td>\n",
       "      <td>autor do registro é criador de conteúdos que u...</td>\n",
       "      <td>https://g1.globo.com/fato-ou-fake/noticia/2025...</td>\n",
       "    </tr>\n",
       "  </tbody>\n",
       "</table>\n",
       "</div>"
      ],
      "text/plain": [
       "   index                                             titulo  \\\n",
       "0      0  É #FAKE vídeo de Paolla Oliveira anunciando de...   \n",
       "1      1  É #FAKE que vídeo mostre criminosos deixando d...   \n",
       "2      2  É #FATO: vídeo viral mostra treinamento milita...   \n",
       "3      3  É #FAKE que mamografia aumenta o risco de cânc...   \n",
       "4      4  É #FAKE vídeo em que famosos usam camiseta com...   \n",
       "\n",
       "                                              resumo  \\\n",
       "0  é fake post que usa vídeo de paolla oliveira p...   \n",
       "1  polícia civil da bahia onde foi feita a gravaç...   \n",
       "2  publicada em fevereiro de na conta oficial de ...   \n",
       "3  integrante da sociedade brasileira de mastolog...   \n",
       "4  autor do registro é criador de conteúdos que u...   \n",
       "\n",
       "                                                 URL  \n",
       "0  https://g1.globo.com/fato-ou-fake/video/e-fake...  \n",
       "1  https://g1.globo.com/fato-ou-fake/noticia/2025...  \n",
       "2  https://g1.globo.com/fato-ou-fake/noticia/2025...  \n",
       "3  https://g1.globo.com/fato-ou-fake/noticia/2025...  \n",
       "4  https://g1.globo.com/fato-ou-fake/noticia/2025...  "
      ]
     },
     "execution_count": 282,
     "metadata": {},
     "output_type": "execute_result"
    }
   ],
   "source": [
    "df = pd.read_csv('db/concat_FatoFake.csv')\n",
    "df.head()"
   ]
  },
  {
   "cell_type": "code",
   "execution_count": 283,
   "metadata": {},
   "outputs": [
    {
     "name": "stdout",
     "output_type": "stream",
     "text": [
      "<class 'pandas.core.frame.DataFrame'>\n",
      "RangeIndex: 2918 entries, 0 to 2917\n",
      "Data columns (total 4 columns):\n",
      " #   Column  Non-Null Count  Dtype \n",
      "---  ------  --------------  ----- \n",
      " 0   index   2918 non-null   int64 \n",
      " 1   titulo  2918 non-null   object\n",
      " 2   resumo  2916 non-null   object\n",
      " 3   URL     2918 non-null   object\n",
      "dtypes: int64(1), object(3)\n",
      "memory usage: 91.3+ KB\n"
     ]
    }
   ],
   "source": [
    "df.info()\n"
   ]
  },
  {
   "cell_type": "code",
   "execution_count": 284,
   "metadata": {},
   "outputs": [],
   "source": [
    "# df = df.dropna(subset=['resumo'])\n",
    "df['resumo'] = df['resumo'].fillna('não há dados sobre')\n"
   ]
  },
  {
   "cell_type": "code",
   "execution_count": 285,
   "metadata": {},
   "outputs": [],
   "source": [
    "# Definir uma função para verificar se as frases específicas estão no 'resumo'\n",
    "def remove_noticias_irrelevantes_pro_contexto(titulo):\n",
    "    return (\"estreia quadro no \\'Mais Você\\'\" not in titulo) and ('apresenta o quadro \\\"Fato ou Fake\\\"' not in titulo)\n"
   ]
  },
  {
   "cell_type": "code",
   "execution_count": 286,
   "metadata": {},
   "outputs": [],
   "source": [
    "# Aplicar a função para filtrar as linhas\n",
    "df = df[df['titulo'].apply(remove_noticias_irrelevantes_pro_contexto)]"
   ]
  },
  {
   "cell_type": "code",
   "execution_count": 287,
   "metadata": {},
   "outputs": [
    {
     "name": "stdout",
     "output_type": "stream",
     "text": [
      "<class 'pandas.core.frame.DataFrame'>\n",
      "Index: 2916 entries, 0 to 2917\n",
      "Data columns (total 4 columns):\n",
      " #   Column  Non-Null Count  Dtype \n",
      "---  ------  --------------  ----- \n",
      " 0   index   2916 non-null   int64 \n",
      " 1   titulo  2916 non-null   object\n",
      " 2   resumo  2916 non-null   object\n",
      " 3   URL     2916 non-null   object\n",
      "dtypes: int64(1), object(3)\n",
      "memory usage: 113.9+ KB\n"
     ]
    }
   ],
   "source": [
    "df.info()\n"
   ]
  },
  {
   "cell_type": "code",
   "execution_count": 288,
   "metadata": {},
   "outputs": [],
   "source": [
    "keys = {\n",
    "    'fake': ['#FAKE', '#NÃO É BEM ASSIM']\n",
    "    }"
   ]
  },
  {
   "cell_type": "code",
   "execution_count": 289,
   "metadata": {},
   "outputs": [],
   "source": [
    "# Função para classificar\n",
    "def classificar(row):\n",
    "    # Verificar nas colunas 'titulo' e 'resumo'\n",
    "    texto_completo = row['titulo'] + \" \" + row['resumo']  # Junta as duas colunas em uma string\n",
    "    # Verifica se alguma palavra-chave de 'fake' aparece\n",
    "    if any(palavra in texto_completo for palavra in keys['fake']):\n",
    "        return 'fake'\n",
    "    return 'fato'  # Se não encontrar 'fake', classifica como 'fato'\n"
   ]
  },
  {
   "cell_type": "code",
   "execution_count": 290,
   "metadata": {},
   "outputs": [
    {
     "data": {
      "text/html": [
       "<div>\n",
       "<style scoped>\n",
       "    .dataframe tbody tr th:only-of-type {\n",
       "        vertical-align: middle;\n",
       "    }\n",
       "\n",
       "    .dataframe tbody tr th {\n",
       "        vertical-align: top;\n",
       "    }\n",
       "\n",
       "    .dataframe thead th {\n",
       "        text-align: right;\n",
       "    }\n",
       "</style>\n",
       "<table border=\"1\" class=\"dataframe\">\n",
       "  <thead>\n",
       "    <tr style=\"text-align: right;\">\n",
       "      <th></th>\n",
       "      <th>index</th>\n",
       "      <th>titulo</th>\n",
       "      <th>resumo</th>\n",
       "      <th>URL</th>\n",
       "      <th>check</th>\n",
       "    </tr>\n",
       "  </thead>\n",
       "  <tbody>\n",
       "    <tr>\n",
       "      <th>0</th>\n",
       "      <td>0</td>\n",
       "      <td>É #FAKE vídeo de Paolla Oliveira anunciando de...</td>\n",
       "      <td>é fake post que usa vídeo de paolla oliveira p...</td>\n",
       "      <td>https://g1.globo.com/fato-ou-fake/video/e-fake...</td>\n",
       "      <td>fake</td>\n",
       "    </tr>\n",
       "    <tr>\n",
       "      <th>1</th>\n",
       "      <td>1</td>\n",
       "      <td>É #FAKE que vídeo mostre criminosos deixando d...</td>\n",
       "      <td>polícia civil da bahia onde foi feita a gravaç...</td>\n",
       "      <td>https://g1.globo.com/fato-ou-fake/noticia/2025...</td>\n",
       "      <td>fake</td>\n",
       "    </tr>\n",
       "    <tr>\n",
       "      <th>2</th>\n",
       "      <td>2</td>\n",
       "      <td>É #FATO: vídeo viral mostra treinamento milita...</td>\n",
       "      <td>publicada em fevereiro de na conta oficial de ...</td>\n",
       "      <td>https://g1.globo.com/fato-ou-fake/noticia/2025...</td>\n",
       "      <td>fato</td>\n",
       "    </tr>\n",
       "    <tr>\n",
       "      <th>3</th>\n",
       "      <td>3</td>\n",
       "      <td>É #FAKE que mamografia aumenta o risco de cânc...</td>\n",
       "      <td>integrante da sociedade brasileira de mastolog...</td>\n",
       "      <td>https://g1.globo.com/fato-ou-fake/noticia/2025...</td>\n",
       "      <td>fake</td>\n",
       "    </tr>\n",
       "    <tr>\n",
       "      <th>4</th>\n",
       "      <td>4</td>\n",
       "      <td>É #FAKE vídeo em que famosos usam camiseta com...</td>\n",
       "      <td>autor do registro é criador de conteúdos que u...</td>\n",
       "      <td>https://g1.globo.com/fato-ou-fake/noticia/2025...</td>\n",
       "      <td>fake</td>\n",
       "    </tr>\n",
       "  </tbody>\n",
       "</table>\n",
       "</div>"
      ],
      "text/plain": [
       "   index                                             titulo  \\\n",
       "0      0  É #FAKE vídeo de Paolla Oliveira anunciando de...   \n",
       "1      1  É #FAKE que vídeo mostre criminosos deixando d...   \n",
       "2      2  É #FATO: vídeo viral mostra treinamento milita...   \n",
       "3      3  É #FAKE que mamografia aumenta o risco de cânc...   \n",
       "4      4  É #FAKE vídeo em que famosos usam camiseta com...   \n",
       "\n",
       "                                              resumo  \\\n",
       "0  é fake post que usa vídeo de paolla oliveira p...   \n",
       "1  polícia civil da bahia onde foi feita a gravaç...   \n",
       "2  publicada em fevereiro de na conta oficial de ...   \n",
       "3  integrante da sociedade brasileira de mastolog...   \n",
       "4  autor do registro é criador de conteúdos que u...   \n",
       "\n",
       "                                                 URL check  \n",
       "0  https://g1.globo.com/fato-ou-fake/video/e-fake...  fake  \n",
       "1  https://g1.globo.com/fato-ou-fake/noticia/2025...  fake  \n",
       "2  https://g1.globo.com/fato-ou-fake/noticia/2025...  fato  \n",
       "3  https://g1.globo.com/fato-ou-fake/noticia/2025...  fake  \n",
       "4  https://g1.globo.com/fato-ou-fake/noticia/2025...  fake  "
      ]
     },
     "execution_count": 290,
     "metadata": {},
     "output_type": "execute_result"
    }
   ],
   "source": [
    "df['check'] = df.apply(classificar, axis=1)\n",
    "df.head()\n"
   ]
  },
  {
   "cell_type": "code",
   "execution_count": 291,
   "metadata": {},
   "outputs": [
    {
     "data": {
      "text/plain": [
       "check\n",
       "fake    94.890261\n",
       "fato     5.109739\n",
       "Name: proportion, dtype: float64"
      ]
     },
     "execution_count": 291,
     "metadata": {},
     "output_type": "execute_result"
    }
   ],
   "source": [
    "df['check'].value_counts(normalize=True)*100"
   ]
  },
  {
   "cell_type": "code",
   "execution_count": null,
   "metadata": {},
   "outputs": [
    {
     "name": "stdout",
     "output_type": "stream",
     "text": [
      "Series([], Name: titulo, dtype: object)\n"
     ]
    }
   ],
   "source": [
    "print(df['titulo'][df['check'] == 'fato'])"
   ]
  },
  {
   "cell_type": "code",
   "execution_count": 293,
   "metadata": {},
   "outputs": [
    {
     "name": "stdout",
     "output_type": "stream",
     "text": [
      "2       publicada em fevereiro de na conta oficial de ...\n",
      "40      após ser empossado nesta segunda ele repetiu v...\n",
      "47      jovem diz que contraiu hpv na mão por equipame...\n",
      "153     grupo era contratado por políticos em períodos...\n",
      "179     equipe do fato ou fake apurou e concluiu com d...\n",
      "                              ...                        \n",
      "2877    vídeo que tem bombado nas redes sociais mostra...\n",
      "2885    em são paulo candidatos apresentaram propostas...\n",
      "2890    vídeos exibidos na tv globo e globonews com co...\n",
      "2904    texto compartilhado no whatsapp lista providên...\n",
      "2907    texto tem sido muito compartilhado na web espe...\n",
      "Name: resumo, Length: 149, dtype: object\n"
     ]
    }
   ],
   "source": [
    "print(df['resumo'][df['check'] == 'fato'])\n"
   ]
  },
  {
   "cell_type": "code",
   "execution_count": null,
   "metadata": {},
   "outputs": [],
   "source": [
    "saveData(df)"
   ]
  }
 ],
 "metadata": {
  "kernelspec": {
   "display_name": "Python 3",
   "language": "python",
   "name": "python3"
  },
  "language_info": {
   "codemirror_mode": {
    "name": "ipython",
    "version": 3
   },
   "file_extension": ".py",
   "mimetype": "text/x-python",
   "name": "python",
   "nbconvert_exporter": "python",
   "pygments_lexer": "ipython3",
   "version": "3.12.7"
  }
 },
 "nbformat": 4,
 "nbformat_minor": 2
}
