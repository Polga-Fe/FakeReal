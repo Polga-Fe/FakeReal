{
 "cells": [
  {
   "cell_type": "code",
   "execution_count": 107,
   "metadata": {},
   "outputs": [],
   "source": [
    "import pandas as pd\n",
    "import sklearn as skt\n",
    "import re\n",
    "from datetime import datetime, timezone\n",
    "import matplotlib.pyplot as plt"
   ]
  },
  {
   "cell_type": "code",
   "execution_count": 108,
   "metadata": {},
   "outputs": [
    {
     "data": {
      "text/html": [
       "<div>\n",
       "<style scoped>\n",
       "    .dataframe tbody tr th:only-of-type {\n",
       "        vertical-align: middle;\n",
       "    }\n",
       "\n",
       "    .dataframe tbody tr th {\n",
       "        vertical-align: top;\n",
       "    }\n",
       "\n",
       "    .dataframe thead th {\n",
       "        text-align: right;\n",
       "    }\n",
       "</style>\n",
       "<table border=\"1\" class=\"dataframe\">\n",
       "  <thead>\n",
       "    <tr style=\"text-align: right;\">\n",
       "      <th></th>\n",
       "      <th>index</th>\n",
       "      <th>titulo</th>\n",
       "      <th>resumo</th>\n",
       "      <th>URL</th>\n",
       "    </tr>\n",
       "  </thead>\n",
       "  <tbody>\n",
       "    <tr>\n",
       "      <th>0</th>\n",
       "      <td>0</td>\n",
       "      <td>É #FAKE foto que mostra Alexandre de Moraes us...</td>\n",
       "      <td>imagem criada com inteligência artificial most...</td>\n",
       "      <td>https://g1.globo.com/fato-ou-fake/noticia/2025...</td>\n",
       "    </tr>\n",
       "    <tr>\n",
       "      <th>1</th>\n",
       "      <td>1</td>\n",
       "      <td>Fato ou Fake estreia quadro no 'Mais Você'; as...</td>\n",
       "      <td>no programa apresentado por ana maria braga na...</td>\n",
       "      <td>https://g1.globo.com/fato-ou-fake/noticia/2025...</td>\n",
       "    </tr>\n",
       "    <tr>\n",
       "      <th>2</th>\n",
       "      <td>2</td>\n",
       "      <td>Paula Paiva apresenta o quadro \"Fato ou Fake\" ...</td>\n",
       "      <td>paula paiva apresenta o quadro fato ou fake no...</td>\n",
       "      <td>https://g1.globo.com/fato-ou-fake/video/paula-...</td>\n",
       "    </tr>\n",
       "    <tr>\n",
       "      <th>3</th>\n",
       "      <td>3</td>\n",
       "      <td>É #FAKE que governo entregou administração de ...</td>\n",
       "      <td>é fake que governo entregou administração de d...</td>\n",
       "      <td>https://g1.globo.com/fato-ou-fake/video/e-fake...</td>\n",
       "    </tr>\n",
       "    <tr>\n",
       "      <th>4</th>\n",
       "      <td>4</td>\n",
       "      <td>#NÃO É BEM ASSIM: Nem todo acompanhante de pas...</td>\n",
       "      <td>posts acertam na descrição de como obter desco...</td>\n",
       "      <td>https://g1.globo.com/fato-ou-fake/noticia/2025...</td>\n",
       "    </tr>\n",
       "  </tbody>\n",
       "</table>\n",
       "</div>"
      ],
      "text/plain": [
       "   index                                             titulo  \\\n",
       "0      0  É #FAKE foto que mostra Alexandre de Moraes us...   \n",
       "1      1  Fato ou Fake estreia quadro no 'Mais Você'; as...   \n",
       "2      2  Paula Paiva apresenta o quadro \"Fato ou Fake\" ...   \n",
       "3      3  É #FAKE que governo entregou administração de ...   \n",
       "4      4  #NÃO É BEM ASSIM: Nem todo acompanhante de pas...   \n",
       "\n",
       "                                              resumo  \\\n",
       "0  imagem criada com inteligência artificial most...   \n",
       "1  no programa apresentado por ana maria braga na...   \n",
       "2  paula paiva apresenta o quadro fato ou fake no...   \n",
       "3  é fake que governo entregou administração de d...   \n",
       "4  posts acertam na descrição de como obter desco...   \n",
       "\n",
       "                                                 URL  \n",
       "0  https://g1.globo.com/fato-ou-fake/noticia/2025...  \n",
       "1  https://g1.globo.com/fato-ou-fake/noticia/2025...  \n",
       "2  https://g1.globo.com/fato-ou-fake/video/paula-...  \n",
       "3  https://g1.globo.com/fato-ou-fake/video/e-fake...  \n",
       "4  https://g1.globo.com/fato-ou-fake/noticia/2025...  "
      ]
     },
     "execution_count": 108,
     "metadata": {},
     "output_type": "execute_result"
    }
   ],
   "source": [
    "df = pd.read_csv('db/full_FatoFake.csv')\n",
    "df.head()"
   ]
  },
  {
   "cell_type": "code",
   "execution_count": 109,
   "metadata": {},
   "outputs": [
    {
     "name": "stdout",
     "output_type": "stream",
     "text": [
      "<class 'pandas.core.frame.DataFrame'>\n",
      "RangeIndex: 16983 entries, 0 to 16982\n",
      "Data columns (total 4 columns):\n",
      " #   Column  Non-Null Count  Dtype \n",
      "---  ------  --------------  ----- \n",
      " 0   index   16983 non-null  int64 \n",
      " 1   titulo  16983 non-null  object\n",
      " 2   resumo  9990 non-null   object\n",
      " 3   URL     16983 non-null  object\n",
      "dtypes: int64(1), object(3)\n",
      "memory usage: 530.8+ KB\n"
     ]
    }
   ],
   "source": [
    "df.info()\n"
   ]
  },
  {
   "cell_type": "code",
   "execution_count": 110,
   "metadata": {},
   "outputs": [],
   "source": [
    "# df = df.dropna(subset=['resumo'])\n",
    "df['resumo'] = df['resumo'].fillna('não há dados sobre')\n"
   ]
  },
  {
   "cell_type": "code",
   "execution_count": 111,
   "metadata": {},
   "outputs": [
    {
     "name": "stderr",
     "output_type": "stream",
     "text": [
      "C:\\Users\\Polga-Fe\\AppData\\Local\\Temp\\ipykernel_9724\\414789301.py:2: UserWarning: This pattern is interpreted as a regular expression, and has match groups. To actually get the groups, use str.extract.\n",
      "  df = df[~df['resumo'].str.contains(r\"(estreia.*'Mais Você'|apresenta.*'Fato ou Fake')\", case=False, na=False, regex=True)]\n"
     ]
    }
   ],
   "source": [
    "# Remover linhas onde 'resumo' contém palavras-chave como \"estreia\" e \"apresenta\"\n",
    "df = df[~df['resumo'].str.contains(r\"(estreia.*'Mais Você'|apresenta.*'Fato ou Fake')\", case=False, na=False, regex=True)]\n"
   ]
  },
  {
   "cell_type": "code",
   "execution_count": 112,
   "metadata": {},
   "outputs": [
    {
     "name": "stdout",
     "output_type": "stream",
     "text": [
      "<class 'pandas.core.frame.DataFrame'>\n",
      "RangeIndex: 16983 entries, 0 to 16982\n",
      "Data columns (total 4 columns):\n",
      " #   Column  Non-Null Count  Dtype \n",
      "---  ------  --------------  ----- \n",
      " 0   index   16983 non-null  int64 \n",
      " 1   titulo  16983 non-null  object\n",
      " 2   resumo  16983 non-null  object\n",
      " 3   URL     16983 non-null  object\n",
      "dtypes: int64(1), object(3)\n",
      "memory usage: 530.8+ KB\n"
     ]
    }
   ],
   "source": [
    "df.info()\n"
   ]
  },
  {
   "cell_type": "code",
   "execution_count": 113,
   "metadata": {},
   "outputs": [],
   "source": [
    "keys = {\n",
    "    'fake': ['#FAKE', '#NÃO É BEM ASSIM']\n",
    "    }"
   ]
  },
  {
   "cell_type": "code",
   "execution_count": 114,
   "metadata": {},
   "outputs": [],
   "source": [
    "# Função para classificar\n",
    "def classificar(row):\n",
    "    # Verificar nas colunas 'titulo' e 'resumo'\n",
    "    texto_completo = row['titulo'] + \" \" + row['resumo']  # Junta as duas colunas em uma string\n",
    "    # Verifica se alguma palavra-chave de 'fake' aparece\n",
    "    if any(palavra in texto_completo for palavra in keys['fake']):\n",
    "        return 'fake'\n",
    "    return 'fato'  # Se não encontrar 'fake', classifica como 'fato'\n"
   ]
  },
  {
   "cell_type": "code",
   "execution_count": 115,
   "metadata": {},
   "outputs": [
    {
     "data": {
      "text/html": [
       "<div>\n",
       "<style scoped>\n",
       "    .dataframe tbody tr th:only-of-type {\n",
       "        vertical-align: middle;\n",
       "    }\n",
       "\n",
       "    .dataframe tbody tr th {\n",
       "        vertical-align: top;\n",
       "    }\n",
       "\n",
       "    .dataframe thead th {\n",
       "        text-align: right;\n",
       "    }\n",
       "</style>\n",
       "<table border=\"1\" class=\"dataframe\">\n",
       "  <thead>\n",
       "    <tr style=\"text-align: right;\">\n",
       "      <th></th>\n",
       "      <th>index</th>\n",
       "      <th>titulo</th>\n",
       "      <th>resumo</th>\n",
       "      <th>URL</th>\n",
       "      <th>check</th>\n",
       "    </tr>\n",
       "  </thead>\n",
       "  <tbody>\n",
       "    <tr>\n",
       "      <th>0</th>\n",
       "      <td>0</td>\n",
       "      <td>É #FAKE foto que mostra Alexandre de Moraes us...</td>\n",
       "      <td>imagem criada com inteligência artificial most...</td>\n",
       "      <td>https://g1.globo.com/fato-ou-fake/noticia/2025...</td>\n",
       "      <td>fake</td>\n",
       "    </tr>\n",
       "    <tr>\n",
       "      <th>1</th>\n",
       "      <td>1</td>\n",
       "      <td>Fato ou Fake estreia quadro no 'Mais Você'; as...</td>\n",
       "      <td>no programa apresentado por ana maria braga na...</td>\n",
       "      <td>https://g1.globo.com/fato-ou-fake/noticia/2025...</td>\n",
       "      <td>fato</td>\n",
       "    </tr>\n",
       "    <tr>\n",
       "      <th>2</th>\n",
       "      <td>2</td>\n",
       "      <td>Paula Paiva apresenta o quadro \"Fato ou Fake\" ...</td>\n",
       "      <td>paula paiva apresenta o quadro fato ou fake no...</td>\n",
       "      <td>https://g1.globo.com/fato-ou-fake/video/paula-...</td>\n",
       "      <td>fato</td>\n",
       "    </tr>\n",
       "    <tr>\n",
       "      <th>3</th>\n",
       "      <td>3</td>\n",
       "      <td>É #FAKE que governo entregou administração de ...</td>\n",
       "      <td>é fake que governo entregou administração de d...</td>\n",
       "      <td>https://g1.globo.com/fato-ou-fake/video/e-fake...</td>\n",
       "      <td>fake</td>\n",
       "    </tr>\n",
       "    <tr>\n",
       "      <th>4</th>\n",
       "      <td>4</td>\n",
       "      <td>#NÃO É BEM ASSIM: Nem todo acompanhante de pas...</td>\n",
       "      <td>posts acertam na descrição de como obter desco...</td>\n",
       "      <td>https://g1.globo.com/fato-ou-fake/noticia/2025...</td>\n",
       "      <td>fake</td>\n",
       "    </tr>\n",
       "  </tbody>\n",
       "</table>\n",
       "</div>"
      ],
      "text/plain": [
       "   index                                             titulo  \\\n",
       "0      0  É #FAKE foto que mostra Alexandre de Moraes us...   \n",
       "1      1  Fato ou Fake estreia quadro no 'Mais Você'; as...   \n",
       "2      2  Paula Paiva apresenta o quadro \"Fato ou Fake\" ...   \n",
       "3      3  É #FAKE que governo entregou administração de ...   \n",
       "4      4  #NÃO É BEM ASSIM: Nem todo acompanhante de pas...   \n",
       "\n",
       "                                              resumo  \\\n",
       "0  imagem criada com inteligência artificial most...   \n",
       "1  no programa apresentado por ana maria braga na...   \n",
       "2  paula paiva apresenta o quadro fato ou fake no...   \n",
       "3  é fake que governo entregou administração de d...   \n",
       "4  posts acertam na descrição de como obter desco...   \n",
       "\n",
       "                                                 URL check  \n",
       "0  https://g1.globo.com/fato-ou-fake/noticia/2025...  fake  \n",
       "1  https://g1.globo.com/fato-ou-fake/noticia/2025...  fato  \n",
       "2  https://g1.globo.com/fato-ou-fake/video/paula-...  fato  \n",
       "3  https://g1.globo.com/fato-ou-fake/video/e-fake...  fake  \n",
       "4  https://g1.globo.com/fato-ou-fake/noticia/2025...  fake  "
      ]
     },
     "execution_count": 115,
     "metadata": {},
     "output_type": "execute_result"
    }
   ],
   "source": [
    "df['check'] = df.apply(classificar, axis=1)\n",
    "df.head()\n"
   ]
  },
  {
   "cell_type": "code",
   "execution_count": 116,
   "metadata": {},
   "outputs": [
    {
     "data": {
      "text/plain": [
       "check\n",
       "fato    52.941176\n",
       "fake    47.058824\n",
       "Name: proportion, dtype: float64"
      ]
     },
     "execution_count": 116,
     "metadata": {},
     "output_type": "execute_result"
    }
   ],
   "source": [
    "df['check'].value_counts(normalize=True)*100"
   ]
  },
  {
   "cell_type": "code",
   "execution_count": 117,
   "metadata": {},
   "outputs": [
    {
     "name": "stdout",
     "output_type": "stream",
     "text": [
      "1        Fato ou Fake estreia quadro no 'Mais Você'; as...\n",
      "2        Paula Paiva apresenta o quadro \"Fato ou Fake\" ...\n",
      "11       Fato ou Fake estreia quadro no 'Mais Você'; as...\n",
      "12       Paula Paiva apresenta o quadro \"Fato ou Fake\" ...\n",
      "21       Fato ou Fake estreia quadro no 'Mais Você'; as...\n",
      "                               ...                        \n",
      "16978    Câmara discute nos bastidores emendas e anisti...\n",
      "16979    ANA FLOR: PEC da Blindagem é escárnio do Congr...\n",
      "16980    SADI: Fazenda vira alvo de ministros em reuniã...\n",
      "16981    Bolo que envenenou família foi feito de última...\n",
      "16982    Rio pode ter recorde de calor hoje; veja as ca...\n",
      "Name: titulo, Length: 8991, dtype: object\n"
     ]
    }
   ],
   "source": [
    "print(df['titulo'][df['check'] == 'fato'])"
   ]
  },
  {
   "cell_type": "code",
   "execution_count": null,
   "metadata": {},
   "outputs": [],
   "source": []
  }
 ],
 "metadata": {
  "kernelspec": {
   "display_name": "Python 3",
   "language": "python",
   "name": "python3"
  },
  "language_info": {
   "codemirror_mode": {
    "name": "ipython",
    "version": 3
   },
   "file_extension": ".py",
   "mimetype": "text/x-python",
   "name": "python",
   "nbconvert_exporter": "python",
   "pygments_lexer": "ipython3",
   "version": "3.12.7"
  }
 },
 "nbformat": 4,
 "nbformat_minor": 2
}
