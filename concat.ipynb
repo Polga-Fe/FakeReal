{
 "cells": [
  {
   "cell_type": "code",
   "execution_count": 4,
   "metadata": {},
   "outputs": [],
   "source": [
    "import pandas as pd\n",
    "import os\n"
   ]
  },
  {
   "cell_type": "code",
   "execution_count": 5,
   "metadata": {},
   "outputs": [],
   "source": [
    "def concatenar_csv(caminho_pasta='db'):\n",
    "    # Caminho completo para os arquivos CSV na pasta db\n",
    "    arquivos_csv = [f for f in os.listdir(caminho_pasta) if f.endswith('.csv')]\n",
    "    \n",
    "    if len(arquivos_csv) < 2:\n",
    "        print(\"Não há arquivos CSV suficientes para concatenar!\")\n",
    "        return None\n",
    "\n",
    "    # Carregar os dois arquivos CSV\n",
    "    caminho_csv1 = os.path.join(caminho_pasta, 'dataFAKExFATO.csv')\n",
    "    caminho_csv2 = os.path.join(caminho_pasta, 'dataFATO.csv')\n",
    "\n",
    "    # Carregar os DataFrames\n",
    "    df1 = pd.read_csv(caminho_csv1)\n",
    "    df2 = pd.read_csv(caminho_csv2)\n",
    "\n",
    "    # Concatenar os dois DataFrames (um abaixo do outro)\n",
    "    df_concatenado = pd.concat([df1, df2], ignore_index=True)\n",
    "\n",
    "    # Opcional: Salvar o DataFrame concatenado em um novo arquivo CSV\n",
    "    df_concatenado.to_csv(os.path.join(caminho_pasta, 'concat_FatoFake.csv'), index=False)\n",
    "\n",
    "    return df_concatenado\n",
    "\n"
   ]
  },
  {
   "cell_type": "code",
   "execution_count": 6,
   "metadata": {},
   "outputs": [
    {
     "name": "stdout",
     "output_type": "stream",
     "text": [
      "      index                                             titulo  \\\n",
      "0         0  É #FAKE vídeo de Paolla Oliveira anunciando de...   \n",
      "1         1  É #FAKE que vídeo mostre criminosos deixando d...   \n",
      "2         2  É #FATO: vídeo viral mostra treinamento milita...   \n",
      "3         3  É #FAKE que mamografia aumenta o risco de cânc...   \n",
      "4         4  É #FAKE vídeo em que famosos usam camiseta com...   \n",
      "...     ...                                                ...   \n",
      "4560   1642  Empresário é preso em Vitória por ligação com ...   \n",
      "4561   1643  Lula estuda novo xadrez ministerial com ajuste...   \n",
      "4562   1644  Compras internacionais recuam em 2024, mas arr...   \n",
      "4563   1645  Tom Welling, de 'Smallville', é preso nos Esta...   \n",
      "4564   1646  VÍDEO: Polícia prende em flagrante dois ladrõe...   \n",
      "\n",
      "                                                 resumo  \\\n",
      "0     é fake post que usa vídeo de paolla oliveira p...   \n",
      "1     polícia civil da bahia onde foi feita a gravaç...   \n",
      "2     publicada em fevereiro de na conta oficial de ...   \n",
      "3     integrante da sociedade brasileira de mastolog...   \n",
      "4     autor do registro é criador de conteúdos que u...   \n",
      "...                                                 ...   \n",
      "4560  \"Operação Conexão Perdida\" prendeu duas pessoa...   \n",
      "4561  Expectativa de aliados é de que presidente tro...   \n",
      "4562  Em agosto, governo aumentou para 20% o imposto...   \n",
      "4563  O ator de 47 anos foi preso no domingo (26) e ...   \n",
      "4564  Ação aconteceu na Avenida Lins Vasconcelos na ...   \n",
      "\n",
      "                                                    URL  \n",
      "0     https://g1.globo.com/fato-ou-fake/video/e-fake...  \n",
      "1     https://g1.globo.com/fato-ou-fake/noticia/2025...  \n",
      "2     https://g1.globo.com/fato-ou-fake/noticia/2025...  \n",
      "3     https://g1.globo.com/fato-ou-fake/noticia/2025...  \n",
      "4     https://g1.globo.com/fato-ou-fake/noticia/2025...  \n",
      "...                                                 ...  \n",
      "4560  https://g1.globo.com/es/espirito-santo/noticia...  \n",
      "4561  https://g1.globo.com/politica/blog/andreia-sad...  \n",
      "4562  https://g1.globo.com/economia/noticia/2025/01/...  \n",
      "4563  https://g1.globo.com/pop-arte/noticia/2025/01/...  \n",
      "4564  https://g1.globo.com/sp/sao-paulo/noticia/2025...  \n",
      "\n",
      "[4565 rows x 4 columns]\n"
     ]
    }
   ],
   "source": [
    "\n",
    "# Exemplo de chamada da função\n",
    "resultado = concatenar_csv()\n",
    "print(resultado)"
   ]
  }
 ],
 "metadata": {
  "kernelspec": {
   "display_name": "Python 3",
   "language": "python",
   "name": "python3"
  },
  "language_info": {
   "codemirror_mode": {
    "name": "ipython",
    "version": 3
   },
   "file_extension": ".py",
   "mimetype": "text/x-python",
   "name": "python",
   "nbconvert_exporter": "python",
   "pygments_lexer": "ipython3",
   "version": "3.12.7"
  }
 },
 "nbformat": 4,
 "nbformat_minor": 2
}
