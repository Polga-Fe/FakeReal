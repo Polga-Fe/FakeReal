{
 "cells": [
  {
   "cell_type": "code",
   "execution_count": 10,
   "metadata": {},
   "outputs": [],
   "source": [
    "import pandas as pd\n",
    "import os\n"
   ]
  },
  {
   "cell_type": "code",
   "execution_count": 11,
   "metadata": {},
   "outputs": [],
   "source": [
    "def concatenar_csv(caminho_pasta='FakeReal/db'):\n",
    "    # Caminho completo para os arquivos CSV na pasta db\n",
    "    arquivos_csv = [f for f in os.listdir(caminho_pasta) if f.endswith('.csv')]\n",
    "    \n",
    "    if len(arquivos_csv) < 2:\n",
    "        print(\"Não há arquivos CSV suficientes para concatenar!\")\n",
    "        return None\n",
    "\n",
    "    # Carregar os dois arquivos CSV\n",
    "    caminho_csv1 = os.path.join(caminho_pasta, 'dataFAKExFATO.csv')\n",
    "    caminho_csv2 = os.path.join(caminho_pasta, 'dataFATO.csv')\n",
    "\n",
    "    # Carregar os DataFrames\n",
    "    df1 = pd.read_csv(caminho_csv1)\n",
    "    df2 = pd.read_csv(caminho_csv2)\n",
    "\n",
    "    # Concatenar os dois DataFrames (um abaixo do outro)\n",
    "    df_concatenado = pd.concat([df1, df2], ignore_index=True)\n",
    "\n",
    "    # Opcional: Salvar o DataFrame concatenado em um novo arquivo CSV\n",
    "    df_concatenado.to_csv(os.path.join(caminho_pasta, 'full_FatoFake.csv'), index=False)\n",
    "\n",
    "    return df_concatenado\n",
    "\n"
   ]
  },
  {
   "cell_type": "code",
   "execution_count": 12,
   "metadata": {},
   "outputs": [
    {
     "name": "stdout",
     "output_type": "stream",
     "text": [
      "       index                                             titulo  \\\n",
      "0          0  É #FAKE foto que mostra Alexandre de Moraes us...   \n",
      "1          1  Fato ou Fake estreia quadro no 'Mais Você'; as...   \n",
      "2          2  Paula Paiva apresenta o quadro \"Fato ou Fake\" ...   \n",
      "3          3  É #FAKE que governo entregou administração de ...   \n",
      "4          4  #NÃO É BEM ASSIM: Nem todo acompanhante de pas...   \n",
      "...      ...                                                ...   \n",
      "16978   6988  Câmara discute nos bastidores emendas e anisti...   \n",
      "16979   6989  ANA FLOR: PEC da Blindagem é escárnio do Congr...   \n",
      "16980   6990  SADI: Fazenda vira alvo de ministros em reuniã...   \n",
      "16981   6991  Bolo que envenenou família foi feito de última...   \n",
      "16982   6992  Rio pode ter recorde de calor hoje; veja as ca...   \n",
      "\n",
      "                                                  resumo  \\\n",
      "0      imagem criada com inteligência artificial most...   \n",
      "1      no programa apresentado por ana maria braga na...   \n",
      "2      paula paiva apresenta o quadro fato ou fake no...   \n",
      "3      é fake que governo entregou administração de d...   \n",
      "4      posts acertam na descrição de como obter desco...   \n",
      "...                                                  ...   \n",
      "16978                                                NaN   \n",
      "16979                                                NaN   \n",
      "16980                                                NaN   \n",
      "16981                                                NaN   \n",
      "16982                                                NaN   \n",
      "\n",
      "                                                     URL  \n",
      "0      https://g1.globo.com/fato-ou-fake/noticia/2025...  \n",
      "1      https://g1.globo.com/fato-ou-fake/noticia/2025...  \n",
      "2      https://g1.globo.com/fato-ou-fake/video/paula-...  \n",
      "3      https://g1.globo.com/fato-ou-fake/video/e-fake...  \n",
      "4      https://g1.globo.com/fato-ou-fake/noticia/2025...  \n",
      "...                                                  ...  \n",
      "16978  https://g1.globo.com/politica/noticia/2025/02/...  \n",
      "16979  https://g1.globo.com/economia/blog/ana-flor/po...  \n",
      "16980  https://g1.globo.com/politica/blog/andreia-sad...  \n",
      "16981  https://g1.globo.com/fantastico/noticia/2025/0...  \n",
      "16982  https://g1.globo.com/meio-ambiente/noticia/202...  \n",
      "\n",
      "[16983 rows x 4 columns]\n"
     ]
    }
   ],
   "source": [
    "\n",
    "# Exemplo de chamada da função\n",
    "resultado = concatenar_csv()\n",
    "print(resultado)"
   ]
  }
 ],
 "metadata": {
  "kernelspec": {
   "display_name": "Python 3",
   "language": "python",
   "name": "python3"
  },
  "language_info": {
   "codemirror_mode": {
    "name": "ipython",
    "version": 3
   },
   "file_extension": ".py",
   "mimetype": "text/x-python",
   "name": "python",
   "nbconvert_exporter": "python",
   "pygments_lexer": "ipython3",
   "version": "3.12.7"
  }
 },
 "nbformat": 4,
 "nbformat_minor": 2
}
